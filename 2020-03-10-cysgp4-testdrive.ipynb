{
 "cells": [
  {
   "cell_type": "markdown",
   "id": "productive-hometown",
   "metadata": {},
   "source": [
    "# Cysgp4 Testdrive"
   ]
  },
  {
   "cell_type": "code",
   "execution_count": 1,
   "id": "medical-documentary",
   "metadata": {},
   "outputs": [],
   "source": [
    "import cysgp4\n",
    "\n",
    "# Define a date/time and an observer\n",
    "pydt = cysgp4.PyDateTime.from_mjd(58805.57)\n",
    "lon_deg, lat_deg = 6.88375, 50.525\n",
    "alt_km = 0.366\n",
    "obs = cysgp4.PyObserver(lon_deg, lat_deg, alt_km)"
   ]
  },
  {
   "cell_type": "code",
   "execution_count": 2,
   "id": "german-criterion",
   "metadata": {},
   "outputs": [
    {
     "data": {
      "text/plain": [
       "(5879.591717433254, 1545.7466371009068, 3287.414902246409)"
      ]
     },
     "execution_count": 2,
     "metadata": {},
     "output_type": "execute_result"
    }
   ],
   "source": [
    "# Define satellite properties/orbit via two-line element string (TLE)\n",
    "hst_tle = cysgp4.PyTle(\n",
    "    'HST',\n",
    "    '1 20580U 90037B   19321.38711875  .00000471  00000-0  17700-4 0  9991',\n",
    "    '2 20580  28.4699 288.8102 0002495 321.7771 171.5855 15.09299865423838',\n",
    "    )\n",
    "\n",
    "# Create a satellite object for querying coordinates\n",
    "sat = cysgp4.Satellite(hst_tle, obs, pydt)\n",
    "sat.eci_pos().loc  # ECI cartesian position, km"
   ]
  },
  {
   "cell_type": "code",
   "execution_count": 3,
   "id": "seasonal-banks",
   "metadata": {},
   "outputs": [
    {
     "data": {
      "text/plain": [
       "(-1.8205905404240885, 7.374045435922246, -0.20698001286678888)"
      ]
     },
     "execution_count": 3,
     "metadata": {},
     "output_type": "execute_result"
    }
   ],
   "source": [
    "sat.eci_pos().vel  # ECI cartesian velocity, km/s"
   ]
  },
  {
   "cell_type": "code",
   "execution_count": 4,
   "id": "photographic-netscape",
   "metadata": {},
   "outputs": [
    {
     "data": {
      "text/plain": [
       "<PyCoordGeodetic: 112.2146d, 28.5509d, 538.0173km>"
      ]
     },
     "execution_count": 4,
     "metadata": {},
     "output_type": "execute_result"
    }
   ],
   "source": [
    "sat.geo_pos()  # geographic (geodetic) position, lon/lat/alt"
   ]
  },
  {
   "cell_type": "code",
   "execution_count": 5,
   "id": "sapphire-taylor",
   "metadata": {},
   "outputs": [
    {
     "data": {
      "text/plain": [
       "<PyCoordTopocentric: 60.2453d, -35.6845d, 8314.5681km, 3.5087km/s>"
      ]
     },
     "execution_count": 5,
     "metadata": {},
     "output_type": "execute_result"
    }
   ],
   "source": [
    "sat.topo_pos()  # topocentric position, az/el/dist/dist_rate"
   ]
  },
  {
   "cell_type": "code",
   "execution_count": 6,
   "id": "stone-saudi",
   "metadata": {},
   "outputs": [
    {
     "data": {
      "text/plain": [
       "<PyCoordTopocentric: 54.8446d, -38.2749d, 8734.9196km, 3.4885km/s>"
      ]
     },
     "execution_count": 6,
     "metadata": {},
     "output_type": "execute_result"
    }
   ],
   "source": [
    "sat.mjd += 1 / 720.  # one minute later\n",
    "sat.topo_pos()"
   ]
  },
  {
   "cell_type": "code",
   "execution_count": null,
   "id": "documentary-median",
   "metadata": {},
   "outputs": [],
   "source": []
  }
 ],
 "metadata": {
  "kernelspec": {
   "display_name": "Python 3",
   "language": "python",
   "name": "python3"
  },
  "language_info": {
   "codemirror_mode": {
    "name": "ipython",
    "version": 3
   },
   "file_extension": ".py",
   "mimetype": "text/x-python",
   "name": "python",
   "nbconvert_exporter": "python",
   "pygments_lexer": "ipython3",
   "version": "3.8.7"
  }
 },
 "nbformat": 4,
 "nbformat_minor": 5
}
