{
 "cells": [
  {
   "cell_type": "markdown",
   "metadata": {},
   "source": [
    "# \"Starlink Forecast\"\n",
    "> A tutorial of fastpages for Jupyter notebooks.\n",
    "\n",
    "- toc: true \n",
    "- badges: true\n",
    "- comments: true\n",
    "- categories: [jupyter]\n",
    "- image: images/chart-preview.png\n"
   ]
  },
  {
   "cell_type": "code",
   "execution_count": 1,
   "metadata": {},
   "outputs": [
    {
     "name": "stdout",
     "output_type": "stream",
     "text": [
      "Fetching http://celestrak.com/NORAD/elements/starlink.txt\n",
      "Read 1092 TLEs\n"
     ]
    }
   ],
   "source": [
    "from datetime import date, datetime\n",
    "import requests\n",
    "import math\n",
    "from os import path,remove\n",
    "import numpy as np\n",
    "from cysgp4 import *\n",
    "import pandas as pd\n",
    "import altair as alt\n",
    "from altair_saver import save\n",
    "alt.renderers.enable('altair_saver', fmts=['vega-lite', 'png','svg'])\n",
    "#alt.data_transformers.enable('json')\n",
    "alt.data_transformers.disable_max_rows()\n",
    "\n",
    "today = date.today()\n",
    "starlink_url = 'http://celestrak.com/NORAD/elements/starlink.txt'\n",
    "starlink_file_tle = \"data/in/starlink_%s.tle\"%today\n",
    "starlink_file_json = \"data/out/starlink_forecast_%s.json\"%today\n",
    "starlink_file_png = \"data/out/starlink_forecast_%s.png\"%today\n",
    "\n",
    "\n",
    "if not path.exists(starlink_file_tle):\n",
    "    r = requests.get(starlink_url, allow_redirects=True)\n",
    "    open(starlink_file_tle, 'wb').write(r.content)\n",
    "    print(\"Fetching\",starlink_url )\n",
    "else:\n",
    "    print(\"Using\",starlink_file_tle)\n",
    "    \n",
    "    \n",
    "with open(starlink_file_tle , 'r') as tlefile:\n",
    "        starlink_tle_text = '\\r\\n'.join(tlefile.read().split('\\n'))\n",
    "\n",
    "tles = np.array(tles_from_text(starlink_tle_text))\n",
    "print('Read %i TLEs'%len(tles))"
   ]
  },
  {
   "cell_type": "code",
   "execution_count": 2,
   "metadata": {
    "tags": []
   },
   "outputs": [
    {
     "name": "stdout",
     "output_type": "stream",
     "text": [
      "Found 823 operational Starlink satellites\n"
     ]
    }
   ],
   "source": [
    "DAY = 24*60*60\n",
    "EARTH_RADIUS = 6378137.0\n",
    "EARTH_MASS = 3.986004418 * 10**14\n",
    "\n",
    "operational=None\n",
    "\n",
    "for tle in tles:\n",
    "    period = DAY /tle.mean_motion\n",
    "    semi_major_axis = (((period / (math.pi*2))**2) * EARTH_MASS) ** (1/3)\n",
    "    ap_plus_pe = semi_major_axis * 2\n",
    "    ap_minus_pe = tle.eccentricity * ap_plus_pe\n",
    "    apogee = (ap_plus_pe + ap_minus_pe) / 2\n",
    "    perigee = apogee - ap_minus_pe\n",
    "\n",
    "    apogee -= EARTH_RADIUS\n",
    "    perigee -= EARTH_RADIUS\n",
    "\n",
    "    \n",
    "    if apogee > 545000:\n",
    "        if operational is not None:\n",
    "            operational=np.append(operational,tle)\n",
    "        else:\n",
    "            operational=np.array(tle)\n",
    "            \n",
    "\n",
    "print(\"Found %i operational Starlink satellites\"% len(operational))"
   ]
  },
  {
   "cell_type": "code",
   "execution_count": 3,
   "metadata": {},
   "outputs": [],
   "source": [
    "lon=-120\n",
    "lat_min=43\n",
    "lat_max=53\n",
    "lat_step=.125\n",
    "height=0\n",
    "days=1 \n",
    "steps=int(days*24*12) +1\n",
    "start=datetime.combine(date.today(), datetime.min.time())\n",
    "\n",
    "pydt = PyDateTime(start)\n",
    "mjds = np.linspace(pydt.mjd, pydt.mjd+days, steps)\n",
    "\n",
    "observers = None\n",
    "for lat in np.arange(lat_max,lat_min-lat_step,-lat_step):\n",
    "    if observers is not None:\n",
    "        observers = np.append(observers, PyObserver(lon, lat, height))\n",
    "    else:\n",
    "        observers=np.array([PyObserver(lon, lat, height)])"
   ]
  },
  {
   "cell_type": "code",
   "execution_count": 4,
   "metadata": {},
   "outputs": [],
   "source": [
    "result = propagate_many(\n",
    "     mjds[:, np.newaxis, np.newaxis],\n",
    "     operational[np.newaxis, np.newaxis, :],\n",
    "     observers[np.newaxis, :, np.newaxis],\n",
    "     do_eci_pos=False, do_eci_vel=False, do_geo=False, do_topo=True\n",
    "     )\n",
    "topo_pos = result['topo']\n",
    "topo_pos_az, topo_pos_el, topo_pos_dist, _ = (topo_pos[..., i] for i in range(4))\n",
    "topo_pos_az = (topo_pos_az + 180.) % 360. - 180.\n",
    "result_topo=np.column_stack([topo_pos_az[0, 0, :], topo_pos_el[0, 0, :]])"
   ]
  },
  {
   "cell_type": "code",
   "execution_count": 5,
   "metadata": {},
   "outputs": [],
   "source": [
    "def reachable(topo):\n",
    "    reachable=0\n",
    "    for r in topo:\n",
    "        azimuth,elevation=r\n",
    "        if (elevation > 35 and (azimuth > -60 and azimuth < 60)) or (elevation > 40 and (azimuth > -120 and azimuth < 120)) or elevation  > 45:\n",
    "            reachable+=1\n",
    "    return(reachable)\n",
    "\n",
    "sat_reachable={\n",
    "    'time':[],\n",
    "    'lat':[],\n",
    "    'sat':[]\n",
    "}\n",
    "for l in range(0,len(topo_pos_az[0])):\n",
    "    for i in range(0,len(topo_pos_az)):\n",
    "        pydt= PyDateTime.from_mjd(mjds[i])\n",
    "        topo=np.column_stack([topo_pos_az[i, l, :], topo_pos_el[i, l, :]])\n",
    "        sat_reachable['time'].append(pydt.datetime.strftime(\"%H:%M\"))\n",
    "        sat_reachable['lat'].append('{:.2f}'.format(observers[l].loc.lat))\n",
    "        sat_reachable['sat'].append(reachable(topo))"
   ]
  },
  {
   "cell_type": "code",
   "execution_count": 6,
   "metadata": {},
   "outputs": [],
   "source": [
    "df=pd.DataFrame(sat_reachable)\n",
    "chart=alt.Chart(df).mark_rect().encode(\n",
    "    x=alt.X('time:O', axis=alt.Axis( title='Time')),\n",
    "    y=alt.Y('lat:O', axis=alt.Axis( title='Lattitude'),sort='descending'),\n",
    "    color=alt.Color('sat', scale=alt.Scale(scheme='redyellowgreen'),legend=None),\n",
    "    tooltip=['time','lat','sat'],\n",
    ").properties(\n",
    "    title='Starlink Forecast %s for Longitude %s°'%(today,lon),\n",
    "    width=1920,\n",
    "    height=1080\n",
    ").configure_header(\n",
    "    titleFontSize=30,\n",
    ")\n"
   ]
  },
  {
   "cell_type": "code",
   "execution_count": null,
   "metadata": {},
   "outputs": [],
   "source": [
    "\n"
   ]
  },
  {
   "cell_type": "code",
   "execution_count": 7,
   "metadata": {},
   "outputs": [
    {
     "ename": "ValueError",
     "evalue": "No enabled saver found that supports format='png'",
     "output_type": "error",
     "traceback": [
      "\u001b[0;31m---------------------------------------------------------------------------\u001b[0m",
      "\u001b[0;31mValueError\u001b[0m                                Traceback (most recent call last)",
      "\u001b[0;32m<ipython-input-7-44a760ceb6a7>\u001b[0m in \u001b[0;36m<module>\u001b[0;34m\u001b[0m\n\u001b[0;32m----> 1\u001b[0;31m \u001b[0msave\u001b[0m\u001b[0;34m(\u001b[0m\u001b[0mchart\u001b[0m\u001b[0;34m,\u001b[0m \u001b[0mstarlink_file_png\u001b[0m\u001b[0;34m)\u001b[0m\u001b[0;34m\u001b[0m\u001b[0;34m\u001b[0m\u001b[0m\n\u001b[0m",
      "\u001b[0;32m/pyenv/versions/3.8.7/lib/python3.8/site-packages/altair_saver/_core.py\u001b[0m in \u001b[0;36msave\u001b[0;34m(chart, fp, fmt, mode, embed_options, method, suppress_data_warning, **kwargs)\u001b[0m\n\u001b[1;32m    167\u001b[0m         \u001b[0membed_options\u001b[0m \u001b[0;34m=\u001b[0m \u001b[0malt\u001b[0m\u001b[0;34m.\u001b[0m\u001b[0mrenderers\u001b[0m\u001b[0;34m.\u001b[0m\u001b[0moptions\u001b[0m\u001b[0;34m.\u001b[0m\u001b[0mget\u001b[0m\u001b[0;34m(\u001b[0m\u001b[0;34m\"embed_options\"\u001b[0m\u001b[0;34m,\u001b[0m \u001b[0;32mNone\u001b[0m\u001b[0;34m)\u001b[0m\u001b[0;34m\u001b[0m\u001b[0;34m\u001b[0m\u001b[0m\n\u001b[1;32m    168\u001b[0m \u001b[0;34m\u001b[0m\u001b[0m\n\u001b[0;32m--> 169\u001b[0;31m     \u001b[0mSaver\u001b[0m \u001b[0;34m=\u001b[0m \u001b[0m_select_saver\u001b[0m\u001b[0;34m(\u001b[0m\u001b[0mmethod\u001b[0m\u001b[0;34m,\u001b[0m \u001b[0mmode\u001b[0m\u001b[0;34m=\u001b[0m\u001b[0mmode\u001b[0m\u001b[0;34m,\u001b[0m \u001b[0mfmt\u001b[0m\u001b[0;34m=\u001b[0m\u001b[0mfmt\u001b[0m\u001b[0;34m,\u001b[0m \u001b[0mfp\u001b[0m\u001b[0;34m=\u001b[0m\u001b[0mfp\u001b[0m\u001b[0;34m)\u001b[0m\u001b[0;34m\u001b[0m\u001b[0;34m\u001b[0m\u001b[0m\n\u001b[0m\u001b[1;32m    170\u001b[0m     \u001b[0msaver\u001b[0m \u001b[0;34m=\u001b[0m \u001b[0mSaver\u001b[0m\u001b[0;34m(\u001b[0m\u001b[0mspec\u001b[0m\u001b[0;34m,\u001b[0m \u001b[0mmode\u001b[0m\u001b[0;34m=\u001b[0m\u001b[0mmode\u001b[0m\u001b[0;34m,\u001b[0m \u001b[0membed_options\u001b[0m\u001b[0;34m=\u001b[0m\u001b[0membed_options\u001b[0m\u001b[0;34m,\u001b[0m \u001b[0;34m**\u001b[0m\u001b[0mkwargs\u001b[0m\u001b[0;34m)\u001b[0m\u001b[0;34m\u001b[0m\u001b[0;34m\u001b[0m\u001b[0m\n\u001b[1;32m    171\u001b[0m \u001b[0;34m\u001b[0m\u001b[0m\n",
      "\u001b[0;32m/pyenv/versions/3.8.7/lib/python3.8/site-packages/altair_saver/_core.py\u001b[0m in \u001b[0;36m_select_saver\u001b[0;34m(method, mode, fmt, fp)\u001b[0m\n\u001b[1;32m     67\u001b[0m             \u001b[0;32mif\u001b[0m \u001b[0ms\u001b[0m\u001b[0;34m.\u001b[0m\u001b[0menabled\u001b[0m\u001b[0;34m(\u001b[0m\u001b[0;34m)\u001b[0m \u001b[0;32mand\u001b[0m \u001b[0mfmt\u001b[0m \u001b[0;32min\u001b[0m \u001b[0ms\u001b[0m\u001b[0;34m.\u001b[0m\u001b[0mvalid_formats\u001b[0m\u001b[0;34m[\u001b[0m\u001b[0mmode\u001b[0m\u001b[0;34m]\u001b[0m\u001b[0;34m:\u001b[0m\u001b[0;34m\u001b[0m\u001b[0;34m\u001b[0m\u001b[0m\n\u001b[1;32m     68\u001b[0m                 \u001b[0;32mreturn\u001b[0m \u001b[0ms\u001b[0m\u001b[0;34m\u001b[0m\u001b[0;34m\u001b[0m\u001b[0m\n\u001b[0;32m---> 69\u001b[0;31m         \u001b[0;32mraise\u001b[0m \u001b[0mValueError\u001b[0m\u001b[0;34m(\u001b[0m\u001b[0;34mf\"No enabled saver found that supports format={fmt!r}\"\u001b[0m\u001b[0;34m)\u001b[0m\u001b[0;34m\u001b[0m\u001b[0;34m\u001b[0m\u001b[0m\n\u001b[0m\u001b[1;32m     70\u001b[0m     \u001b[0;32melse\u001b[0m\u001b[0;34m:\u001b[0m\u001b[0;34m\u001b[0m\u001b[0;34m\u001b[0m\u001b[0m\n\u001b[1;32m     71\u001b[0m         \u001b[0;32mraise\u001b[0m \u001b[0mValueError\u001b[0m\u001b[0;34m(\u001b[0m\u001b[0;34mf\"Unrecognized method: {method}\"\u001b[0m\u001b[0;34m)\u001b[0m\u001b[0;34m\u001b[0m\u001b[0;34m\u001b[0m\u001b[0m\n",
      "\u001b[0;31mValueError\u001b[0m: No enabled saver found that supports format='png'"
     ]
    }
   ],
   "source": [
    "save(chart, starlink_file_png)"
   ]
  },
  {
   "cell_type": "code",
   "execution_count": null,
   "metadata": {},
   "outputs": [],
   "source": []
  }
 ],
 "metadata": {
  "kernelspec": {
   "display_name": "Python 3",
   "language": "python",
   "name": "python3"
  },
  "language_info": {
   "codemirror_mode": {
    "name": "ipython",
    "version": 3
   },
   "file_extension": ".py",
   "mimetype": "text/x-python",
   "name": "python",
   "nbconvert_exporter": "python",
   "pygments_lexer": "ipython3",
   "version": "3.8.7"
  }
 },
 "nbformat": 4,
 "nbformat_minor": 4
}
